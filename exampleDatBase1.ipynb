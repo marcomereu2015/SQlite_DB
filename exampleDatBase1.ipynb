{
 "cells": [
  {
   "cell_type": "code",
   "execution_count": 9,
   "id": "e7997991",
   "metadata": {},
   "outputs": [],
   "source": [
    "import sqlite3"
   ]
  },
  {
   "cell_type": "code",
   "execution_count": 10,
   "id": "e8d14774",
   "metadata": {},
   "outputs": [
    {
     "data": {
      "text/plain": [
       "<sqlite3.Cursor at 0x7fe2a15533b0>"
      ]
     },
     "execution_count": 10,
     "metadata": {},
     "output_type": "execute_result"
    }
   ],
   "source": [
    "connection = sqlite3.connect('exampleDatBase1.db')\n",
    "\n",
    "cursor = connection.cursor()\n",
    "\n",
    "\n",
    "command1 = \"\"\"CREATE TABLE IF NOT EXISTS\n",
    "            cities(city_id INTEGER PRIMARY KEY, location TEXT)\"\"\"\n",
    "\n",
    "cursor.execute(command1)\n",
    "\n",
    "command2 = \"\"\"CREATE TABLE IF NOT EXISTS\n",
    "            living(living_id INTEGER PRIMARY KEY, city_id INTEGER, living_cost FLOAT, FOREIGN KEY(city_id) REFERENCES cities(city_id))\"\"\"\n",
    "\n",
    "cursor.execute(command2)"
   ]
  },
  {
   "cell_type": "code",
   "execution_count": 11,
   "id": "0490038b",
   "metadata": {},
   "outputs": [
    {
     "data": {
      "text/plain": [
       "<sqlite3.Cursor at 0x7fe2a15533b0>"
      ]
     },
     "execution_count": 11,
     "metadata": {},
     "output_type": "execute_result"
    }
   ],
   "source": [
    "cursor.execute(\"INSERT INTO cities VALUES (21, 'Mineapolis, MN')\")\n",
    "cursor.execute(\"INSERT INTO cities VALUES (25, 'Duluth, MN')\")\n",
    "cursor.execute(\"INSERT INTO cities VALUES (31, 'Chicago, IL')\")\n",
    "cursor.execute(\"INSERT INTO cities VALUES (67, 'Austin, TX')\")"
   ]
  },
  {
   "cell_type": "code",
   "execution_count": 12,
   "id": "80cb2e67",
   "metadata": {},
   "outputs": [
    {
     "data": {
      "text/plain": [
       "<sqlite3.Cursor at 0x7fe2a15533b0>"
      ]
     },
     "execution_count": 12,
     "metadata": {},
     "output_type": "execute_result"
    }
   ],
   "source": [
    "cursor.execute(\"INSERT INTO living VALUES (55, 21, 55.88)\")\n",
    "cursor.execute(\"INSERT INTO living VALUES (59, 25, 35.08)\")\n",
    "cursor.execute(\"INSERT INTO living VALUES (61, 31, 65.68)\")\n",
    "cursor.execute(\"INSERT INTO living VALUES (103, 67, 75.22)\")"
   ]
  },
  {
   "cell_type": "code",
   "execution_count": 14,
   "id": "e53d4456",
   "metadata": {},
   "outputs": [
    {
     "name": "stdout",
     "output_type": "stream",
     "text": [
      "[(21, 'Mineapolis, MN'), (25, 'Duluth, MN'), (31, 'Chicago, IL'), (67, 'Austin, TX')]\n"
     ]
    }
   ],
   "source": [
    "cursor.execute(\"SELECT * FROM cities\")\n",
    "\n",
    "results = cursor.fetchall()\n",
    "print(results)"
   ]
  },
  {
   "cell_type": "code",
   "execution_count": null,
   "id": "71e17560",
   "metadata": {},
   "outputs": [],
   "source": []
  },
  {
   "cell_type": "code",
   "execution_count": null,
   "id": "c03cf65b",
   "metadata": {},
   "outputs": [],
   "source": []
  }
 ],
 "metadata": {
  "kernelspec": {
   "display_name": "Python 3",
   "language": "python",
   "name": "python3"
  },
  "language_info": {
   "codemirror_mode": {
    "name": "ipython",
    "version": 3
   },
   "file_extension": ".py",
   "mimetype": "text/x-python",
   "name": "python",
   "nbconvert_exporter": "python",
   "pygments_lexer": "ipython3",
   "version": "3.8.8"
  }
 },
 "nbformat": 4,
 "nbformat_minor": 5
}
